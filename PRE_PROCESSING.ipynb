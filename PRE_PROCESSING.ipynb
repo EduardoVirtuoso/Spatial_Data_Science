{
 "cells": [
  {
   "cell_type": "code",
   "execution_count": 1,
   "id": "94b2ecd0",
   "metadata": {},
   "outputs": [],
   "source": [
    "import os\n",
    "import pandas as pd\n",
    "from sklearn.metrics import classification_report, confusion_matrix\n",
    "from sklearn.model_selection import train_test_split, cross_validate, StratifiedKFold, RandomizedSearchCV, learning_curve\n",
    "from sklearn.preprocessing import MinMaxScaler, RobustScaler, OneHotEncoder,StandardScaler\n",
    "from feature_engine.encoding import CountFrequencyEncoder\n",
    "from sklearn.compose import ColumnTransformer\n",
    "from sklearn.pipeline import Pipeline\n",
    "from sklearn.metrics import accuracy_score, precision_score, recall_score, fbeta_score, roc_auc_score, log_loss\n",
    "from xgboost import XGBClassifier"
   ]
  },
  {
   "cell_type": "code",
   "execution_count": 2,
   "id": "af19cc3e",
   "metadata": {},
   "outputs": [],
   "source": [
    "target = 'PROSTITUTION'"
   ]
  },
  {
   "cell_type": "code",
   "execution_count": 3,
   "id": "6ccabd5e",
   "metadata": {},
   "outputs": [],
   "source": [
    "out_folder = r'C:\\Users\\eduar\\OneDrive\\Área de Trabalho\\EXPERIMENTOS DATA SCIENCE E GIS\\CASE KG\\infolder\\optimization'"
   ]
  },
  {
   "cell_type": "code",
   "execution_count": 4,
   "id": "4e0d0b1d",
   "metadata": {},
   "outputs": [],
   "source": [
    "#Reading feature engineering result.\n",
    "df_train = pd.read_csv(r\"C:\\Users\\eduar\\OneDrive\\Área de Trabalho\\EXPERIMENTOS DATA SCIENCE E GIS\\CASE KG\\infolder\\pre_processing\\df_train.csv\")\n",
    "df_test= pd.read_csv(r\"C:\\Users\\eduar\\OneDrive\\Área de Trabalho\\EXPERIMENTOS DATA SCIENCE E GIS\\CASE KG\\infolder\\pre_processing\\df_test.csv\")"
   ]
  },
  {
   "cell_type": "code",
   "execution_count": 5,
   "id": "9c1fcdd4",
   "metadata": {},
   "outputs": [],
   "source": [
    "X_train, y_train = df_train.drop(target, axis=1), df_train[target]\n",
    "X_test, y_test = df_test.drop(target, axis=1), df_test[target]"
   ]
  },
  {
   "cell_type": "markdown",
   "id": "e9bb51c6",
   "metadata": {},
   "source": [
    "# PRE-PROCESSING"
   ]
  },
  {
   "cell_type": "markdown",
   "id": "10b03346",
   "metadata": {},
   "source": [
    "Dropping useles columns."
   ]
  },
  {
   "cell_type": "code",
   "execution_count": 6,
   "id": "35e5fa2c",
   "metadata": {},
   "outputs": [],
   "source": [
    "def dropar_coluna(df):\n",
    "    lista_drop = [x for x in df.columns if x not in cat_cols and x not in num_cols]\n",
    "    df.drop(lista_drop,axis=1,inplace = True)"
   ]
  },
  {
   "cell_type": "code",
   "execution_count": 7,
   "id": "f4dae1e9",
   "metadata": {},
   "outputs": [],
   "source": [
    "cat_cols = [\"DayOfWeek\",\"AV\",\"Block\",\"crossing\",\"PdDistrict\",\"ST\",\"cluster\",\"night_time\",'late_night', 'evening']\n",
    "num_cols = [\"X\",\"Y\",'dist_police',\"Month\",\"Year\",\"hour\",'dist_bar','dist_nightclub']"
   ]
  },
  {
   "cell_type": "code",
   "execution_count": 8,
   "id": "2c78b53c",
   "metadata": {},
   "outputs": [],
   "source": [
    "dropar_coluna(X_train)\n",
    "dropar_coluna(X_test)"
   ]
  },
  {
   "cell_type": "markdown",
   "id": "35f1592d",
   "metadata": {},
   "source": [
    "To solve this classification problem, I decided to use the XGboost algorithm."
   ]
  },
  {
   "cell_type": "code",
   "execution_count": 9,
   "id": "bf2f3efc",
   "metadata": {},
   "outputs": [],
   "source": [
    "# Configure the parameters\n",
    "param = {'booster': 'dart', \n",
    "         'tree_method': 'gpu_hist',\n",
    "         'predictor': 'gpu_predictor',\n",
    "         'max_depth': 7, \n",
    "         'eta': 0.15, \n",
    "         'objective': 'binary:logistic', \n",
    "         'eval_metric': 'auc', \n",
    "         'num_round': 500,\n",
    "         'feature_selector':'greedy', \n",
    "         'sampling_method': 'gradient_based',\n",
    "         'random_state':123\n",
    "        }"
   ]
  },
  {
   "cell_type": "markdown",
   "id": "cfe12b42",
   "metadata": {},
   "source": [
    "Creating a pipeline"
   ]
  },
  {
   "cell_type": "code",
   "execution_count": 10,
   "id": "fdbc0f51",
   "metadata": {},
   "outputs": [],
   "source": [
    "#Transformers\n",
    "pipe_cat_features = (\n",
    "    'onehot_encoder',\n",
    "    OneHotEncoder(handle_unknown='ignore'),\n",
    "    cat_cols\n",
    ")\n",
    "\n",
    "\n",
    "pipe_num_features = (\n",
    "    'MinMaxScaler',\n",
    "    MinMaxScaler(),\n",
    "    num_cols\n",
    ")\n",
    "\n"
   ]
  },
  {
   "cell_type": "code",
   "execution_count": 11,
   "id": "dbb8d3a9",
   "metadata": {},
   "outputs": [],
   "source": [
    "# Creating the transformers list\n",
    "transformers = [pipe_cat_features, pipe_num_features]\n",
    "pipe_transformers = ColumnTransformer(transformers)\n",
    "\n",
    "#Creating the pipe.\n",
    "pipe = Pipeline(\n",
    "        steps=[\n",
    "            ('pre_processor', pipe_transformers),\n",
    "            ('model', XGBClassifier(**param))])"
   ]
  },
  {
   "cell_type": "code",
   "execution_count": 15,
   "id": "b0b59816",
   "metadata": {},
   "outputs": [
    {
     "name": "stderr",
     "output_type": "stream",
     "text": [
      "C:\\Users\\eduar\\.conda\\envs\\exp\\lib\\site-packages\\xgboost\\sklearn.py:1224: UserWarning: The use of label encoder in XGBClassifier is deprecated and will be removed in a future release. To remove this warning, do the following: 1) Pass option use_label_encoder=False when constructing XGBClassifier object; and 2) Encode your labels (y) as integers starting with 0, i.e. 0, 1, 2, ..., [num_class - 1].\n",
      "  warnings.warn(label_encoder_deprecation_msg, UserWarning)\n"
     ]
    },
    {
     "name": "stdout",
     "output_type": "stream",
     "text": [
      "[14:30:57] WARNING: C:/Users/Administrator/workspace/xgboost-win64_release_1.5.1/src/learner.cc:576: \n",
      "Parameters: { \"feature_selector\", \"num_round\" } might not be used.\n",
      "\n",
      "  This could be a false alarm, with some parameters getting used by language bindings but\n",
      "  then being mistakenly passed down to XGBoost core, or some parameter actually being used\n",
      "  but getting flagged wrongly here. Please open an issue if you find any such cases.\n",
      "\n",
      "\n",
      "              precision    recall  f1-score   support\n",
      "\n",
      "         0.0       1.00      1.00      1.00    262262\n",
      "         1.0       0.71      0.55      0.62      2675\n",
      "\n",
      "    accuracy                           0.99    264937\n",
      "   macro avg       0.85      0.77      0.81    264937\n",
      "weighted avg       0.99      0.99      0.99    264937\n",
      "\n"
     ]
    }
   ],
   "source": [
    "#Creating our model.\n",
    "xgb_clf = pipe \n",
    "xgb_clf.fit(X_train, y_train.ravel())\n",
    "score = xgb_clf.score(X_test, y_test.ravel())\n",
    "\n",
    "#Predicting the test dataset\n",
    "y_pred = xgb_clf.predict(X_test)\n",
    "\n",
    "#Print the classification report\n",
    "results_log = classification_report(y_test, y_pred)\n",
    "print(results_log)"
   ]
  },
  {
   "cell_type": "code",
   "execution_count": 16,
   "id": "f3c50a00",
   "metadata": {},
   "outputs": [
    {
     "name": "stdout",
     "output_type": "stream",
     "text": [
      "326\n"
     ]
    }
   ],
   "source": [
    "#creating a text file to save the results log.\n",
    "text_file = open(r\"C:\\Users\\eduar\\OneDrive\\Área de Trabalho\\EXPERIMENTOS DATA SCIENCE E GIS\\CASE KG\\logs\\PRE_PROCESSING\", \"w\")\n",
    "\n",
    "log = text_file.write(results_log)\n",
    "#close file\n",
    "text_file.close()\n",
    "\n",
    "#verifying if the file is empty\n",
    "print(log)"
   ]
  },
  {
   "cell_type": "markdown",
   "id": "b2a35496",
   "metadata": {},
   "source": [
    "Saving our progress"
   ]
  },
  {
   "cell_type": "code",
   "execution_count": 17,
   "id": "404594c1",
   "metadata": {},
   "outputs": [],
   "source": [
    "X_train.to_csv(os.path.join(out_folder,\"X_train.csv\"),index=False)\n",
    "X_test.to_csv(os.path.join(out_folder,\"X_test.csv\"),index=False)\n",
    "y_train.to_csv(os.path.join(out_folder,\"y_train.csv\"),index=False)\n",
    "y_test.to_csv(os.path.join(out_folder,\"y_test.csv\"),index=False)"
   ]
  }
 ],
 "metadata": {
  "kernelspec": {
   "display_name": "Python 3 (ipykernel)",
   "language": "python",
   "name": "python3"
  },
  "language_info": {
   "codemirror_mode": {
    "name": "ipython",
    "version": 3
   },
   "file_extension": ".py",
   "mimetype": "text/x-python",
   "name": "python",
   "nbconvert_exporter": "python",
   "pygments_lexer": "ipython3",
   "version": "3.9.7"
  }
 },
 "nbformat": 4,
 "nbformat_minor": 5
}
